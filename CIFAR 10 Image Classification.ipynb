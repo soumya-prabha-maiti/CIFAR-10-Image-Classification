{
  "nbformat": 4,
  "nbformat_minor": 0,
  "metadata": {
    "accelerator": "GPU",
    "colab": {
      "name": "Untitled0.ipynb",
      "provenance": []
    },
    "kernelspec": {
      "display_name": "Python 3",
      "language": "python",
      "name": "python3"
    },
    "language_info": {
      "codemirror_mode": {
        "name": "ipython",
        "version": 3
      },
      "file_extension": ".py",
      "mimetype": "text/x-python",
      "name": "python",
      "nbconvert_exporter": "python",
      "pygments_lexer": "ipython3",
      "version": "3.8.2"
    }
  },
  "cells": [
    {
      "cell_type": "markdown",
      "metadata": {
        "id": "fv8sooHlVkAm"
      },
      "source": [
        "# Imports"
      ]
    },
    {
      "cell_type": "code",
      "metadata": {
        "id": "yuEF8K7hVeUN"
      },
      "source": [
        "from tensorflow import keras\n",
        "from tensorflow.keras import Sequential\n",
        "from tensorflow.keras.layers import Dense,Conv2D,MaxPool2D,Dropout,Flatten\n",
        "import matplotlib.pyplot as plt"
      ],
      "execution_count": 1,
      "outputs": []
    },
    {
      "cell_type": "markdown",
      "metadata": {
        "id": "y3x0T4VoVnhG"
      },
      "source": [
        "# Dataset"
      ]
    },
    {
      "cell_type": "code",
      "metadata": {
        "colab": {
          "base_uri": "https://localhost:8080/"
        },
        "id": "0BgizhuIVuIF",
        "outputId": "f521fa55-a92f-48ad-b1f6-7d383350cbab"
      },
      "source": [
        "(X_train, y_train), (X_test, y_test) = keras.datasets.cifar10.load_data()\n",
        "\n",
        "print(X_train.shape)\n",
        "print(X_test.shape )\n",
        "print(y_train.shape)\n",
        "print(y_test.shape )"
      ],
      "execution_count": 2,
      "outputs": [
        {
          "output_type": "stream",
          "text": [
            "(50000, 32, 32, 3)\n",
            "(10000, 32, 32, 3)\n",
            "(50000, 1)\n",
            "(10000, 1)\n"
          ],
          "name": "stdout"
        }
      ]
    },
    {
      "cell_type": "code",
      "metadata": {
        "id": "wS_ONph2XRcX"
      },
      "source": [
        "CLASS_NAMES= ['airplane', 'automobile', 'bird', 'cat', 'deer', 'dog', 'frog', 'horse', 'ship', 'truck']"
      ],
      "execution_count": 3,
      "outputs": []
    },
    {
      "cell_type": "code",
      "metadata": {
        "id": "2WRJnBJfWlvy"
      },
      "source": [
        "X_train = X_train.astype('float32')\n",
        "X_test = X_test.astype('float32')"
      ],
      "execution_count": 4,
      "outputs": []
    },
    {
      "cell_type": "code",
      "metadata": {
        "id": "kOETKd2DWpI1"
      },
      "source": [
        "# normalizing the data to help with the training\n",
        "X_train =X_train / 255\n",
        "X_test =X_test / 255"
      ],
      "execution_count": 5,
      "outputs": []
    },
    {
      "cell_type": "code",
      "metadata": {
        "colab": {
          "base_uri": "https://localhost:8080/"
        },
        "id": "YmpVtu1jWsau",
        "outputId": "d9ebf45c-061a-4259-b98e-f478a40e2581"
      },
      "source": [
        "# one-hot encoding using keras utilities\n",
        "no_of_classes = 10\n",
        "print(\"Shape before one-hot encoding: \", y_train.shape)\n",
        "Y_train = keras.utils.to_categorical(y_train, no_of_classes)\n",
        "Y_test = keras.utils.to_categorical(y_test, no_of_classes)\n",
        "print(\"Shape after one-hot encoding: \", Y_train.shape)"
      ],
      "execution_count": 6,
      "outputs": [
        {
          "output_type": "stream",
          "text": [
            "Shape before one-hot encoding:  (50000, 1)\n",
            "Shape after one-hot encoding:  (50000, 10)\n"
          ],
          "name": "stdout"
        }
      ]
    },
    {
      "cell_type": "code",
      "metadata": {
        "colab": {
          "base_uri": "https://localhost:8080/",
          "height": 284
        },
        "id": "HmLhQ5afW46m",
        "outputId": "de6ee39f-d442-447f-d932-d8872ab10152"
      },
      "source": [
        "# Displaying an image and corresponding label\n",
        "plt.imshow(X_train[1])\n",
        "print(Y_train[1])"
      ],
      "execution_count": 7,
      "outputs": [
        {
          "output_type": "stream",
          "text": [
            "[0. 0. 0. 0. 0. 0. 0. 0. 0. 1.]\n"
          ],
          "name": "stdout"
        },
        {
          "output_type": "display_data",
          "data": {
            "image/png": "[encoded data removed]",
            "text/plain": [
              "<Figure size 432x288 with 1 Axes>"
            ]
          },
          "metadata": {
            "tags": [],
            "needs_background": "light"
          }
        }
      ]
    },
    {
      "cell_type": "markdown",
      "metadata": {
        "id": "-PUSkyP8YbRl"
      },
      "source": [
        "# Model"
      ]
    },
    {
      "cell_type": "code",
      "metadata": {
        "colab": {
          "base_uri": "https://localhost:8080/"
        },
        "id": "9szeR3moTLRP",
        "outputId": "47e017cf-08c1-4ac1-f460-febfef1f96d3"
      },
      "source": [
        "# Building a linear stack of layers with the sequential model\n",
        "model = Sequential()\n",
        "\n",
        "# first convolutional layer\n",
        "model.add(Conv2D(filters=50, kernel_size=(3,3), strides=(1,1), padding='same', activation='relu', input_shape=(32, 32, 3)))\n",
        "\n",
        "# second convolutional layer followed by maxpool layer\n",
        "model.add(Conv2D(filters=100, kernel_size=(3,3), strides=(1,1), padding='same', activation='relu'))\n",
        "model.add(MaxPool2D(pool_size=(2,2)))\n",
        "model.add(Dropout(0.25))\n",
        "\n",
        "# third convolutional layer followed by maxpool layer\n",
        "model.add(Conv2D(filters=150, kernel_size=(3,3), strides=(1,1), padding='same', activation='relu'))\n",
        "model.add(MaxPool2D(pool_size=(2,2)))\n",
        "model.add(Dropout(0.25))\n",
        "\n",
        "# flatten output obtained after third convolution and maxpooling\n",
        "model.add(Flatten())\n",
        "\n",
        "# 2 fully connected hidden layers\n",
        "model.add(Dense(400, activation='relu'))\n",
        "model.add(Dropout(0.5))\n",
        "\n",
        "model.add(Dense(200, activation='relu'))\n",
        "model.add(Dropout(0.5))\n",
        "\n",
        "\n",
        "# output layer with softmax activation function \n",
        "model.add(Dense(10, activation='softmax'))\n",
        "\n",
        "# compiling the sequential model\n",
        "model.compile(loss='categorical_crossentropy', metrics=['accuracy'], optimizer='adam')\n",
        "\n",
        "# training the model for 10 epochs\n",
        "history=model.fit(X_train, Y_train, batch_size=200, epochs=40, validation_data=(X_test, Y_test))"
      ],
      "execution_count": 8,
      "outputs": [
        {
          "output_type": "stream",
          "text": [
            "Epoch 1/40\n",
            "250/250 [==============================] - 22s 79ms/step - loss: 1.8018 - accuracy: 0.3245 - val_loss: 1.3414 - val_accuracy: 0.5275\n",
            "Epoch 2/40\n",
            "250/250 [==============================] - 19s 77ms/step - loss: 1.3030 - accuracy: 0.5326 - val_loss: 1.0377 - val_accuracy: 0.6331\n",
            "Epoch 3/40\n",
            "250/250 [==============================] - 19s 78ms/step - loss: 1.0858 - accuracy: 0.6194 - val_loss: 0.8863 - val_accuracy: 0.6928\n",
            "Epoch 4/40\n",
            "250/250 [==============================] - 19s 77ms/step - loss: 0.9694 - accuracy: 0.6653 - val_loss: 0.8433 - val_accuracy: 0.7081\n",
            "Epoch 5/40\n",
            "250/250 [==============================] - 19s 77ms/step - loss: 0.8814 - accuracy: 0.6986 - val_loss: 0.7599 - val_accuracy: 0.7355\n",
            "Epoch 6/40\n",
            "250/250 [==============================] - 19s 77ms/step - loss: 0.8103 - accuracy: 0.7206 - val_loss: 0.7369 - val_accuracy: 0.7444\n",
            "Epoch 7/40\n",
            "250/250 [==============================] - 19s 77ms/step - loss: 0.7490 - accuracy: 0.7425 - val_loss: 0.7229 - val_accuracy: 0.7565\n",
            "Epoch 8/40\n",
            "250/250 [==============================] - 19s 76ms/step - loss: 0.7039 - accuracy: 0.7576 - val_loss: 0.6788 - val_accuracy: 0.7648\n",
            "Epoch 9/40\n",
            "250/250 [==============================] - 19s 76ms/step - loss: 0.6622 - accuracy: 0.7707 - val_loss: 0.6733 - val_accuracy: 0.7668\n",
            "Epoch 10/40\n",
            "250/250 [==============================] - 19s 77ms/step - loss: 0.6287 - accuracy: 0.7801 - val_loss: 0.6535 - val_accuracy: 0.7758\n",
            "Epoch 11/40\n",
            "250/250 [==============================] - 19s 76ms/step - loss: 0.6005 - accuracy: 0.7913 - val_loss: 0.6766 - val_accuracy: 0.7703\n",
            "Epoch 12/40\n",
            "250/250 [==============================] - 19s 77ms/step - loss: 0.5645 - accuracy: 0.8030 - val_loss: 0.6491 - val_accuracy: 0.7797\n",
            "Epoch 13/40\n",
            "250/250 [==============================] - 19s 78ms/step - loss: 0.5429 - accuracy: 0.8109 - val_loss: 0.6452 - val_accuracy: 0.7823\n",
            "Epoch 14/40\n",
            "250/250 [==============================] - 19s 77ms/step - loss: 0.5226 - accuracy: 0.8192 - val_loss: 0.6365 - val_accuracy: 0.7827\n",
            "Epoch 15/40\n",
            "250/250 [==============================] - 19s 76ms/step - loss: 0.5013 - accuracy: 0.8266 - val_loss: 0.6410 - val_accuracy: 0.7875\n",
            "Epoch 16/40\n",
            "250/250 [==============================] - 19s 77ms/step - loss: 0.4793 - accuracy: 0.8322 - val_loss: 0.6458 - val_accuracy: 0.7850\n",
            "Epoch 17/40\n",
            "250/250 [==============================] - 19s 76ms/step - loss: 0.4643 - accuracy: 0.8361 - val_loss: 0.6288 - val_accuracy: 0.7874\n",
            "Epoch 18/40\n",
            "250/250 [==============================] - 19s 77ms/step - loss: 0.4438 - accuracy: 0.8466 - val_loss: 0.6433 - val_accuracy: 0.7851\n",
            "Epoch 19/40\n",
            "250/250 [==============================] - 19s 76ms/step - loss: 0.4349 - accuracy: 0.8466 - val_loss: 0.6689 - val_accuracy: 0.7847\n",
            "Epoch 20/40\n",
            "250/250 [==============================] - 19s 77ms/step - loss: 0.4186 - accuracy: 0.8528 - val_loss: 0.6553 - val_accuracy: 0.7855\n",
            "Epoch 21/40\n",
            "250/250 [==============================] - 19s 76ms/step - loss: 0.4057 - accuracy: 0.8566 - val_loss: 0.6425 - val_accuracy: 0.7935\n",
            "Epoch 22/40\n",
            "250/250 [==============================] - 19s 77ms/step - loss: 0.3969 - accuracy: 0.8611 - val_loss: 0.6658 - val_accuracy: 0.7847\n",
            "Epoch 23/40\n",
            "250/250 [==============================] - 19s 77ms/step - loss: 0.3891 - accuracy: 0.8634 - val_loss: 0.6498 - val_accuracy: 0.7908\n",
            "Epoch 24/40\n",
            "250/250 [==============================] - 19s 77ms/step - loss: 0.3718 - accuracy: 0.8689 - val_loss: 0.6443 - val_accuracy: 0.7938\n",
            "Epoch 25/40\n",
            "250/250 [==============================] - 19s 77ms/step - loss: 0.3604 - accuracy: 0.8733 - val_loss: 0.6624 - val_accuracy: 0.7899\n",
            "Epoch 26/40\n",
            "250/250 [==============================] - 19s 78ms/step - loss: 0.3595 - accuracy: 0.8763 - val_loss: 0.6657 - val_accuracy: 0.7899\n",
            "Epoch 27/40\n",
            "250/250 [==============================] - 19s 76ms/step - loss: 0.3402 - accuracy: 0.8814 - val_loss: 0.6631 - val_accuracy: 0.7920\n",
            "Epoch 28/40\n",
            "250/250 [==============================] - 19s 78ms/step - loss: 0.3427 - accuracy: 0.8809 - val_loss: 0.6419 - val_accuracy: 0.7983\n",
            "Epoch 29/40\n",
            "250/250 [==============================] - 19s 77ms/step - loss: 0.3297 - accuracy: 0.8849 - val_loss: 0.6684 - val_accuracy: 0.7965\n",
            "Epoch 30/40\n",
            "250/250 [==============================] - 19s 77ms/step - loss: 0.3245 - accuracy: 0.8885 - val_loss: 0.6721 - val_accuracy: 0.7904\n",
            "Epoch 31/40\n",
            "250/250 [==============================] - 19s 78ms/step - loss: 0.3220 - accuracy: 0.8873 - val_loss: 0.6569 - val_accuracy: 0.7930\n",
            "Epoch 32/40\n",
            "250/250 [==============================] - 19s 76ms/step - loss: 0.3101 - accuracy: 0.8918 - val_loss: 0.6574 - val_accuracy: 0.7965\n",
            "Epoch 33/40\n",
            "250/250 [==============================] - 19s 78ms/step - loss: 0.3020 - accuracy: 0.8942 - val_loss: 0.6595 - val_accuracy: 0.7990\n",
            "Epoch 34/40\n",
            "250/250 [==============================] - 19s 76ms/step - loss: 0.3052 - accuracy: 0.8943 - val_loss: 0.6583 - val_accuracy: 0.7961\n",
            "Epoch 35/40\n",
            "250/250 [==============================] - 19s 78ms/step - loss: 0.3053 - accuracy: 0.8952 - val_loss: 0.6968 - val_accuracy: 0.7923\n",
            "Epoch 36/40\n",
            "250/250 [==============================] - 19s 76ms/step - loss: 0.2911 - accuracy: 0.8975 - val_loss: 0.6587 - val_accuracy: 0.7994\n",
            "Epoch 37/40\n",
            "250/250 [==============================] - 19s 77ms/step - loss: 0.2847 - accuracy: 0.9014 - val_loss: 0.6737 - val_accuracy: 0.7982\n",
            "Epoch 38/40\n",
            "250/250 [==============================] - 19s 77ms/step - loss: 0.2767 - accuracy: 0.9050 - val_loss: 0.6752 - val_accuracy: 0.8001\n",
            "Epoch 39/40\n",
            "250/250 [==============================] - 19s 77ms/step - loss: 0.2785 - accuracy: 0.9039 - val_loss: 0.6685 - val_accuracy: 0.7999\n",
            "Epoch 40/40\n",
            "250/250 [==============================] - 19s 78ms/step - loss: 0.2732 - accuracy: 0.9045 - val_loss: 0.6788 - val_accuracy: 0.7983\n"
          ],
          "name": "stdout"
        }
      ]
    },
    {
      "cell_type": "code",
      "metadata": {
        "id": "Rmi0HJy8ZFYb"
      },
      "source": [
        "import pandas as pd\n",
        "\n",
        "# convert the history.history dict to a pandas DataFrame:     \n",
        "hist_df = pd.DataFrame(history.history) \n",
        "\n",
        "# save to csv: \n",
        "hist_csv_file = 'history.csv'\n",
        "with open(hist_csv_file, mode='w') as f:\n",
        "    hist_df.to_csv(f)"
      ],
      "execution_count": 9,
      "outputs": []
    },
    {
      "cell_type": "code",
      "metadata": {
        "id": "ZEoEx9B2bHYd"
      },
      "source": [
        "model.save('my_model.h5')"
      ],
      "execution_count": 10,
      "outputs": []
    },
    {
      "cell_type": "code",
      "metadata": {
        "id": "_XhKCzj9bYdl",
        "colab": {
          "base_uri": "https://localhost:8080/",
          "height": 530
        },
        "outputId": "d1b537da-45b0-41a6-b043-26033f097203"
      },
      "source": [
        "hist_df.loc[:, ['loss', 'val_loss']].plot()\n",
        "hist_df.loc[:, ['accuracy', 'val_accuracy']].plot()"
      ],
      "execution_count": 11,
      "outputs": [
        {
          "output_type": "execute_result",
          "data": {
            "text/plain": [
              "<matplotlib.axes._subplots.AxesSubplot at 0x7fb52c45e650>"
            ]
          },
          "metadata": {
            "tags": []
          },
          "execution_count": 11
        },
        {
          "output_type": "display_data",
          "data": {
            "image/png": "[encoded data removed]",
            "text/plain": [
              "<Figure size 432x288 with 1 Axes>"
            ]
          },
          "metadata": {
            "tags": [],
            "needs_background": "light"
          }
        },
        {
          "output_type": "display_data",
          "data": {
            "image/png": "[encoded data removed]",
            "text/plain": [
              "<Figure size 432x288 with 1 Axes>"
            ]
          },
          "metadata": {
            "tags": [],
            "needs_background": "light"
          }
        }
      ]
    }
  ]
}